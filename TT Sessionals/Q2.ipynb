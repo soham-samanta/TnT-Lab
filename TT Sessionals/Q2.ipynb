{
 "cells": [
  {
   "cell_type": "code",
   "execution_count": 2,
   "id": "f1d176c2",
   "metadata": {},
   "outputs": [],
   "source": [
    "# Name: Soham Samanta | Roll : 20051107 | CSE-21 | T&T Lab Sessional\n",
    "# WAPP to create a user defined function frequency_array(), which will take one argument\n",
    "# as an numpy array, and find out the frequency of all the elements. ( Frequency should print\n",
    "# once for a number and without using any temporary array)."
   ]
  },
  {
   "cell_type": "code",
   "execution_count": 4,
   "id": "523fdb24",
   "metadata": {},
   "outputs": [
    {
     "name": "stdout",
     "output_type": "stream",
     "text": [
      "Element: 1, Frequency: 4\n",
      "Element: 2, Frequency: 3\n",
      "Element: 3, Frequency: 2\n",
      "Element: 4, Frequency: 1\n",
      "Element: 5, Frequency: 1\n"
     ]
    }
   ],
   "source": [
    "import numpy as np\n",
    "from collections import Counter\n",
    "\n",
    "def frequency_array(arr):\n",
    "    counter = Counter(arr)\n",
    "    for element, frequency in counter.items():\n",
    "        print(f\"Element: {element}, Frequency: {frequency}\")\n",
    "\n",
    "arr = np.array([1, 2, 3, 4, 5, 1, 2, 3, 1, 2, 1])\n",
    "frequency_array(arr)\n"
   ]
  },
  {
   "cell_type": "code",
   "execution_count": null,
   "id": "7d68e01e",
   "metadata": {},
   "outputs": [],
   "source": []
  }
 ],
 "metadata": {
  "kernelspec": {
   "display_name": "Python 3 (ipykernel)",
   "language": "python",
   "name": "python3"
  },
  "language_info": {
   "codemirror_mode": {
    "name": "ipython",
    "version": 3
   },
   "file_extension": ".py",
   "mimetype": "text/x-python",
   "name": "python",
   "nbconvert_exporter": "python",
   "pygments_lexer": "ipython3",
   "version": "3.10.4"
  }
 },
 "nbformat": 4,
 "nbformat_minor": 5
}
