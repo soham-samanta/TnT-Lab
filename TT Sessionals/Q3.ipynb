{
 "cells": [
  {
   "cell_type": "code",
   "execution_count": 1,
   "id": "18eb4523",
   "metadata": {},
   "outputs": [],
   "source": [
    "# Name: Soham Samanta | Roll : 20051107 | CSE-21 | T&T Lab Sessional\n",
    "# WAPP to create a class complex_no, data members are real and img, which can store one\n",
    "# complex number. Find out the sum of two complex number by using a function sum(), and\n",
    "# display the result."
   ]
  },
  {
   "cell_type": "code",
   "execution_count": 2,
   "id": "b4fb28d9",
   "metadata": {},
   "outputs": [
    {
     "name": "stdout",
     "output_type": "stream",
     "text": [
      "The sum of 3 + 2i and 1 + 4i is 4 + 6i\n"
     ]
    }
   ],
   "source": [
    "class ComplexNo:\n",
    "    def __init__(self, real, img):\n",
    "        self.real = real\n",
    "        self.img = img\n",
    "        \n",
    "    def __str__(self):\n",
    "        return f\"{self.real} + {self.img}i\"\n",
    "    \n",
    "    def sum(self, other):\n",
    "        return ComplexNo(self.real + other.real, self.img + other.img)\n",
    "\n",
    "c1 = ComplexNo(3, 2)\n",
    "c2 = ComplexNo(1, 4)\n",
    "\n",
    "c_sum = c1.sum(c2)\n",
    "print(f\"The sum of {c1} and {c2} is {c_sum}\")\n"
   ]
  },
  {
   "cell_type": "code",
   "execution_count": null,
   "id": "2518cbc7",
   "metadata": {},
   "outputs": [],
   "source": []
  }
 ],
 "metadata": {
  "kernelspec": {
   "display_name": "Python 3 (ipykernel)",
   "language": "python",
   "name": "python3"
  },
  "language_info": {
   "codemirror_mode": {
    "name": "ipython",
    "version": 3
   },
   "file_extension": ".py",
   "mimetype": "text/x-python",
   "name": "python",
   "nbconvert_exporter": "python",
   "pygments_lexer": "ipython3",
   "version": "3.10.4"
  }
 },
 "nbformat": 4,
 "nbformat_minor": 5
}
