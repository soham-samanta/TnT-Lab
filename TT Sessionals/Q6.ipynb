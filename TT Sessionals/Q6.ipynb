{
 "cells": [
  {
   "cell_type": "code",
   "execution_count": 1,
   "id": "c89c258d",
   "metadata": {},
   "outputs": [],
   "source": [
    "# Name: Soham Samanta | Roll : 20051107 | CSE-21 | T&T Lab Sessional\n",
    "# I. Convert a vector of ints into a matrix binary representation.\n",
    "# II.  Create a 5X2 integer array from a range between 100 to 200 such that the difference between each element is 10"
   ]
  },
  {
   "cell_type": "code",
   "execution_count": 2,
   "id": "5eb22c26",
   "metadata": {},
   "outputs": [
    {
     "name": "stdout",
     "output_type": "stream",
     "text": [
      "Binary Matrix:\n",
      "[[0 0 1]\n",
      " [0 1 0]\n",
      " [0 1 1]\n",
      " [1 0 0]\n",
      " [1 0 1]]\n"
     ]
    }
   ],
   "source": [
    "# I.\n",
    "import numpy as np\n",
    "\n",
    "def int_to_binary_matrix(vector):\n",
    "    max_bin_len = len(bin(max(vector))[2:])\n",
    "    binary_matrix = []\n",
    "\n",
    "    for num in vector:\n",
    "        binary_repr = bin(num)[2:].zfill(max_bin_len)\n",
    "        binary_matrix.append([int(digit) for digit in binary_repr])\n",
    "\n",
    "    return np.array(binary_matrix)\n",
    "\n",
    "vector = np.array([1, 2, 3, 4, 5])\n",
    "binary_matrix = int_to_binary_matrix(vector)\n",
    "print(\"Binary Matrix:\")\n",
    "print(binary_matrix)\n"
   ]
  },
  {
   "cell_type": "code",
   "execution_count": 3,
   "id": "57ab779d",
   "metadata": {},
   "outputs": [
    {
     "name": "stdout",
     "output_type": "stream",
     "text": [
      "5x2 Integer Array:\n",
      "[[100 110]\n",
      " [120 130]\n",
      " [140 150]\n",
      " [160 170]\n",
      " [180 190]]\n"
     ]
    }
   ],
   "source": [
    "# II.\n",
    "import numpy as np\n",
    "\n",
    "# Create the 5x2 integer array\n",
    "array = np.arange(100, 200, 10).reshape(5, 2)\n",
    "\n",
    "print(\"5x2 Integer Array:\")\n",
    "print(array)\n"
   ]
  },
  {
   "cell_type": "code",
   "execution_count": null,
   "id": "3ebd4616",
   "metadata": {},
   "outputs": [],
   "source": []
  }
 ],
 "metadata": {
  "kernelspec": {
   "display_name": "Python 3 (ipykernel)",
   "language": "python",
   "name": "python3"
  },
  "language_info": {
   "codemirror_mode": {
    "name": "ipython",
    "version": 3
   },
   "file_extension": ".py",
   "mimetype": "text/x-python",
   "name": "python",
   "nbconvert_exporter": "python",
   "pygments_lexer": "ipython3",
   "version": "3.10.4"
  }
 },
 "nbformat": 4,
 "nbformat_minor": 5
}
