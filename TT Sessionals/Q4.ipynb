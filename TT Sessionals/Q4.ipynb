{
 "cells": [
  {
   "cell_type": "code",
   "execution_count": 1,
   "id": "793b11bf",
   "metadata": {},
   "outputs": [],
   "source": [
    "# Name: Soham Samanta | Roll : 20051107 | CSE-21 | T&T Lab Sessional\n",
    "# WAPP to add three given lists using Python map and lambda."
   ]
  },
  {
   "cell_type": "code",
   "execution_count": 2,
   "id": "d20b4a54",
   "metadata": {},
   "outputs": [
    {
     "name": "stdout",
     "output_type": "stream",
     "text": [
      "Result: [18, 21, 24, 27, 30]\n"
     ]
    }
   ],
   "source": [
    "list1 = [1, 2, 3, 4, 5]\n",
    "list2 = [6, 7, 8, 9, 10]\n",
    "list3 = [11, 12, 13, 14, 15]\n",
    "\n",
    "ans = list(map(lambda x, y, z: x + y + z, list1, list2, list3))\n",
    "\n",
    "print(\"Result:\", ans)\n"
   ]
  },
  {
   "cell_type": "code",
   "execution_count": null,
   "id": "d6ffe480",
   "metadata": {},
   "outputs": [],
   "source": []
  }
 ],
 "metadata": {
  "kernelspec": {
   "display_name": "Python 3 (ipykernel)",
   "language": "python",
   "name": "python3"
  },
  "language_info": {
   "codemirror_mode": {
    "name": "ipython",
    "version": 3
   },
   "file_extension": ".py",
   "mimetype": "text/x-python",
   "name": "python",
   "nbconvert_exporter": "python",
   "pygments_lexer": "ipython3",
   "version": "3.10.4"
  }
 },
 "nbformat": 4,
 "nbformat_minor": 5
}
