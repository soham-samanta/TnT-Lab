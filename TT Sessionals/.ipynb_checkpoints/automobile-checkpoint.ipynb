{
 "cells": [
  {
   "cell_type": "code",
   "execution_count": 1,
   "id": "96373083",
   "metadata": {},
   "outputs": [],
   "source": [
    "# Name: Soham Samanta | Roll : 20051107 | CSE-21 | T&T Lab Sessional\n",
    "# Import necessary libraries\n",
    "import pandas as pd\n",
    "import numpy as np\n",
    "import matplotlib.pyplot as plt"
   ]
  },
  {
   "cell_type": "code",
   "execution_count": 2,
   "id": "41a3fde6",
   "metadata": {},
   "outputs": [],
   "source": [
    "# Load dataset\n",
    "url = \"Automobile_data.csv\"\n",
    "df = pd.read_csv(url)"
   ]
  },
  {
   "cell_type": "code",
   "execution_count": null,
   "id": "695a432d",
   "metadata": {},
   "outputs": [],
   "source": [
    "# 1. Handle the missing values for Price column\n",
    "df['price'] = df['price'].fillna(df['price'].mean())"
   ]
  }
 ],
 "metadata": {
  "kernelspec": {
   "display_name": "Python 3 (ipykernel)",
   "language": "python",
   "name": "python3"
  },
  "language_info": {
   "codemirror_mode": {
    "name": "ipython",
    "version": 3
   },
   "file_extension": ".py",
   "mimetype": "text/x-python",
   "name": "python",
   "nbconvert_exporter": "python",
   "pygments_lexer": "ipython3",
   "version": "3.10.4"
  }
 },
 "nbformat": 4,
 "nbformat_minor": 5
}
